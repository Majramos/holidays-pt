{
 "cells": [
  {
   "cell_type": "markdown",
   "id": "d6d0a0bd-c5c0-4b2c-be17-93fa52a35ece",
   "metadata": {},
   "source": [
    "# Utilities functions"
   ]
  },
  {
   "cell_type": "code",
   "execution_count": null,
   "id": "6c92ab12-a368-4068-9cb0-19198e6ce06d",
   "metadata": {},
   "outputs": [],
   "source": [
    "from holidays.utils import easter"
   ]
  },
  {
   "cell_type": "code",
   "execution_count": 2,
   "id": "fa960aea-2363-48be-8478-76b4ad6d1082",
   "metadata": {
    "execution": {
     "iopub.execute_input": "2022-07-27T09:11:25.734048Z",
     "iopub.status.busy": "2022-07-27T09:11:25.733814Z",
     "iopub.status.idle": "2022-07-27T09:11:25.749946Z",
     "shell.execute_reply": "2022-07-27T09:11:25.748550Z",
     "shell.execute_reply.started": "2022-07-27T09:11:25.734028Z"
    },
    "tags": []
   },
   "outputs": [
    {
     "data": {
      "text/plain": [
       "datetime.datetime(2020, 4, 12, 0, 0)"
      ]
     },
     "execution_count": 2,
     "metadata": {},
     "output_type": "execute_result"
    }
   ],
   "source": [
    "easter(2020) "
   ]
  },
  {
   "cell_type": "markdown",
   "id": "df9728fe-548d-422b-9c51-b4d8a026bd20",
   "metadata": {
    "execution": {
     "iopub.execute_input": "2022-07-27T09:12:49.952059Z",
     "iopub.status.busy": "2022-07-27T09:12:49.951735Z",
     "iopub.status.idle": "2022-07-27T09:12:49.958341Z",
     "shell.execute_reply": "2022-07-27T09:12:49.956917Z",
     "shell.execute_reply.started": "2022-07-27T09:12:49.952037Z"
    },
    "tags": []
   },
   "source": [
    "# Holidays"
   ]
  },
  {
   "cell_type": "code",
   "execution_count": null,
   "id": "abcb3275-31f0-48ca-8bb1-93b9c94caf03",
   "metadata": {},
   "outputs": [],
   "source": [
    "from holidays import Holidays"
   ]
  },
  {
   "cell_type": "code",
   "execution_count": null,
   "id": "ecfbd293-2077-4ad2-8151-4e7c36f7d3d3",
   "metadata": {},
   "outputs": [],
   "source": [
    "holidays.Holidays.list_regional(country=['PT'])"
   ]
  },
  {
   "cell_type": "code",
   "execution_count": null,
   "id": "3d5c66d3-99b2-46ef-9432-a18b96ca8952",
   "metadata": {},
   "outputs": [],
   "source": [
    "test = holidays.Holidays('2021-01-01', '2021-12-31')\n",
    "print(test)\n",
    "test.calculate(country='PT', extent=['national', 'regional'], level1=['aveiro'], level2=['agueda'])"
   ]
  },
  {
   "cell_type": "code",
   "execution_count": null,
   "id": "d09720ca-cfc8-4bcc-8544-79316762db52",
   "metadata": {},
   "outputs": [],
   "source": [
    "test.as_table()"
   ]
  },
  {
   "cell_type": "code",
   "execution_count": null,
   "id": "844fd42c-355f-4dcc-bd2a-1cbd12150317",
   "metadata": {},
   "outputs": [],
   "source": [
    "test.as_list(drop=['calculate'])"
   ]
  },
  {
   "cell_type": "code",
   "execution_count": null,
   "id": "d38a095c-8726-4470-a478-cb38b6546604",
   "metadata": {},
   "outputs": [],
   "source": [
    "# test.as_time_series()\n",
    "test.as_time_series(sep_region=False, hot_encode=False)"
   ]
  },
  {
   "cell_type": "code",
   "execution_count": null,
   "id": "61c6d4e0-78c8-4f1b-9924-479d0d1b7e90",
   "metadata": {},
   "outputs": [],
   "source": [
    "test.working_days()"
   ]
  }
 ],
 "metadata": {
  "kernelspec": {
   "display_name": "Python 3 (ipykernel)",
   "language": "python",
   "name": "python3"
  },
  "language_info": {
   "codemirror_mode": {
    "name": "ipython",
    "version": 3
   },
   "file_extension": ".py",
   "mimetype": "text/x-python",
   "name": "python",
   "nbconvert_exporter": "python",
   "pygments_lexer": "ipython3",
   "version": "3.9.12"
  }
 },
 "nbformat": 4,
 "nbformat_minor": 5
}
