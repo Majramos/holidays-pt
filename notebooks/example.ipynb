{
 "cells": [
  {
   "cell_type": "code",
   "execution_count": 1,
   "id": "bc7caf8f-f3a0-4f1c-a40a-5515dd716c0c",
   "metadata": {
    "execution": {
     "iopub.execute_input": "2022-08-11T22:46:07.523356Z",
     "iopub.status.busy": "2022-08-11T22:46:07.522941Z",
     "iopub.status.idle": "2022-08-11T22:46:07.644523Z",
     "shell.execute_reply": "2022-08-11T22:46:07.643231Z",
     "shell.execute_reply.started": "2022-08-11T22:46:07.523202Z"
    }
   },
   "outputs": [],
   "source": [
    "from holidays import Holidays, easter"
   ]
  },
  {
   "cell_type": "markdown",
   "id": "d6d0a0bd-c5c0-4b2c-be17-93fa52a35ece",
   "metadata": {},
   "source": [
    "# Utilities functions"
   ]
  },
  {
   "cell_type": "code",
   "execution_count": 2,
   "id": "fa960aea-2363-48be-8478-76b4ad6d1082",
   "metadata": {
    "execution": {
     "iopub.execute_input": "2022-08-11T22:46:07.646005Z",
     "iopub.status.busy": "2022-08-11T22:46:07.645655Z",
     "iopub.status.idle": "2022-08-11T22:46:07.659660Z",
     "shell.execute_reply": "2022-08-11T22:46:07.657888Z",
     "shell.execute_reply.started": "2022-08-11T22:46:07.645986Z"
    },
    "tags": []
   },
   "outputs": [
    {
     "data": {
      "text/plain": [
       "datetime.datetime(2022, 4, 17, 0, 0)"
      ]
     },
     "execution_count": 2,
     "metadata": {},
     "output_type": "execute_result"
    }
   ],
   "source": [
    "easter(2022)"
   ]
  },
  {
   "cell_type": "markdown",
   "id": "df9728fe-548d-422b-9c51-b4d8a026bd20",
   "metadata": {
    "execution": {
     "iopub.execute_input": "2022-07-27T09:12:49.952059Z",
     "iopub.status.busy": "2022-07-27T09:12:49.951735Z",
     "iopub.status.idle": "2022-07-27T09:12:49.958341Z",
     "shell.execute_reply": "2022-07-27T09:12:49.956917Z",
     "shell.execute_reply.started": "2022-07-27T09:12:49.952037Z"
    },
    "tags": []
   },
   "source": [
    "# Holidays"
   ]
  },
  {
   "cell_type": "markdown",
   "id": "133e79df-bc3f-4184-95c9-d6a647b47ddc",
   "metadata": {},
   "source": [
    "## List holidays all (either national or regional)"
   ]
  },
  {
   "cell_type": "code",
   "execution_count": 3,
   "id": "b469ed42-e344-4232-987f-e101d4816f20",
   "metadata": {
    "execution": {
     "iopub.execute_input": "2022-08-11T22:46:07.661480Z",
     "iopub.status.busy": "2022-08-11T22:46:07.661271Z",
     "iopub.status.idle": "2022-08-11T22:46:07.672449Z",
     "shell.execute_reply": "2022-08-11T22:46:07.670952Z",
     "shell.execute_reply.started": "2022-08-11T22:46:07.661461Z"
    },
    "tags": []
   },
   "outputs": [
    {
     "data": {
      "text/plain": [
       "[{'extent': 'national',\n",
       "  'label': 'Ano Novo',\n",
       "  'calculate': 'january 1st',\n",
       "  'date': '2022-01-01'},\n",
       " {'extent': 'national',\n",
       "  'label': 'Carnaval',\n",
       "  'calculate': '47 days before easter sunday on a tuesday',\n",
       "  'date': '2022-03-01'},\n",
       " {'extent': 'national',\n",
       "  'label': 'Sexta-Feira Santa',\n",
       "  'calculate': 'friday right before easter sunday',\n",
       "  'date': '2022-04-15'}]"
      ]
     },
     "execution_count": 3,
     "metadata": {},
     "output_type": "execute_result"
    }
   ],
   "source": [
    "Holidays.ls(extent='national')[:3]"
   ]
  },
  {
   "cell_type": "code",
   "execution_count": 4,
   "id": "a5c0d810-6f83-48ed-9f11-a1e4d82bf415",
   "metadata": {
    "execution": {
     "iopub.execute_input": "2022-08-11T22:46:07.680955Z",
     "iopub.status.busy": "2022-08-11T22:46:07.678888Z",
     "iopub.status.idle": "2022-08-11T22:46:07.694385Z",
     "shell.execute_reply": "2022-08-11T22:46:07.692543Z",
     "shell.execute_reply.started": "2022-08-11T22:46:07.680908Z"
    },
    "tags": []
   },
   "outputs": [
    {
     "data": {
      "text/plain": [
       "[{'extent': 'regional',\n",
       "  'label': 'Sao Geraldo',\n",
       "  'calculate': 'monday after pentacost sunday',\n",
       "  'date': '2022-06-06'},\n",
       " {'extent': 'regional',\n",
       "  'label': 'Segunda-feira da Senhora do Socorro',\n",
       "  'calculate': 'monday after third sunday of august',\n",
       "  'date': '2022-08-22'},\n",
       " {'extent': 'regional',\n",
       "  'label': 'Quinta-feira da Ascensao/Dia da Espiga',\n",
       "  'calculate': 'sixth thursday after easter sunday',\n",
       "  'date': '2022-05-26'}]"
      ]
     },
     "execution_count": 4,
     "metadata": {},
     "output_type": "execute_result"
    }
   ],
   "source": [
    "Holidays.ls(extent='regional')[:3]"
   ]
  },
  {
   "cell_type": "markdown",
   "id": "3365e0e3-bdc8-4420-a234-93f5d785b100",
   "metadata": {
    "tags": []
   },
   "source": [
    "## Calculate holidays between dates"
   ]
  },
  {
   "cell_type": "code",
   "execution_count": 5,
   "id": "35603c0d-0ee4-418a-a96c-82ee07fffd48",
   "metadata": {
    "execution": {
     "iopub.execute_input": "2022-08-11T22:46:07.698292Z",
     "iopub.status.busy": "2022-08-11T22:46:07.696372Z",
     "iopub.status.idle": "2022-08-11T22:46:07.713548Z",
     "shell.execute_reply": "2022-08-11T22:46:07.708795Z",
     "shell.execute_reply.started": "2022-08-11T22:46:07.698252Z"
    },
    "tags": []
   },
   "outputs": [
    {
     "data": {
      "text/plain": [
       "'Holidays(start_date=2020-01-01, end_date=2021-12-31)'"
      ]
     },
     "execution_count": 5,
     "metadata": {},
     "output_type": "execute_result"
    }
   ],
   "source": [
    "hol = Holidays('2020-01-01', '2021-12-31')\n",
    "str(hol)"
   ]
  },
  {
   "cell_type": "markdown",
   "id": "c8e45d41-53d9-459f-8055-6c85c24715fd",
   "metadata": {},
   "source": [
    "### Check for leap years"
   ]
  },
  {
   "cell_type": "code",
   "execution_count": 6,
   "id": "82cdff5a-2317-4d1d-9e98-96d08cbcded4",
   "metadata": {
    "execution": {
     "iopub.execute_input": "2022-08-11T22:46:07.717570Z",
     "iopub.status.busy": "2022-08-11T22:46:07.717262Z",
     "iopub.status.idle": "2022-08-11T22:46:07.729369Z",
     "shell.execute_reply": "2022-08-11T22:46:07.725929Z",
     "shell.execute_reply.started": "2022-08-11T22:46:07.717541Z"
    },
    "tags": []
   },
   "outputs": [
    {
     "data": {
      "text/plain": [
       "{2020: True, 2021: False}"
      ]
     },
     "execution_count": 6,
     "metadata": {},
     "output_type": "execute_result"
    }
   ],
   "source": [
    "hol.leap_years()"
   ]
  },
  {
   "cell_type": "code",
   "execution_count": 7,
   "id": "6c35f6bd-876b-4010-8459-0b0841470e74",
   "metadata": {
    "execution": {
     "iopub.execute_input": "2022-08-11T22:46:07.732143Z",
     "iopub.status.busy": "2022-08-11T22:46:07.731632Z",
     "iopub.status.idle": "2022-08-11T22:46:07.747897Z",
     "shell.execute_reply": "2022-08-11T22:46:07.746404Z",
     "shell.execute_reply.started": "2022-08-11T22:46:07.732060Z"
    },
    "scrolled": true,
    "tags": []
   },
   "outputs": [
    {
     "data": {
      "text/plain": [
       "Holidays(start_date=2020-01-01, end_date=2021-12-31)"
      ]
     },
     "execution_count": 7,
     "metadata": {},
     "output_type": "execute_result"
    }
   ],
   "source": [
    "# calculate the holidays\n",
    "hol.calculate()"
   ]
  },
  {
   "cell_type": "code",
   "execution_count": 8,
   "id": "cc985cdb-46c3-4573-89b4-66ab70f07321",
   "metadata": {
    "execution": {
     "iopub.execute_input": "2022-08-11T22:46:07.749675Z",
     "iopub.status.busy": "2022-08-11T22:46:07.749420Z",
     "iopub.status.idle": "2022-08-11T22:46:07.762448Z",
     "shell.execute_reply": "2022-08-11T22:46:07.758957Z",
     "shell.execute_reply.started": "2022-08-11T22:46:07.749637Z"
    },
    "tags": []
   },
   "outputs": [
    {
     "data": {
      "text/plain": [
       "[{'extent': 'national',\n",
       "  'label': 'Ano Novo',\n",
       "  'calculate': 'january 1st',\n",
       "  'date': datetime.datetime(2020, 1, 1, 0, 0)},\n",
       " {'extent': 'national',\n",
       "  'label': 'Carnaval',\n",
       "  'calculate': '47 days before easter sunday on a tuesday',\n",
       "  'date': datetime.datetime(2020, 2, 25, 0, 0)},\n",
       " {'extent': 'national',\n",
       "  'label': 'Sexta-Feira Santa',\n",
       "  'calculate': 'friday right before easter sunday',\n",
       "  'date': datetime.datetime(2020, 4, 10, 0, 0)}]"
      ]
     },
     "execution_count": 8,
     "metadata": {},
     "output_type": "execute_result"
    }
   ],
   "source": [
    "hol.calculate().as_list()[:3]"
   ]
  },
  {
   "cell_type": "code",
   "execution_count": 9,
   "id": "49cc950e-8584-4b08-a6fd-c6f703b1ff6f",
   "metadata": {
    "execution": {
     "iopub.execute_input": "2022-08-11T22:46:07.766558Z",
     "iopub.status.busy": "2022-08-11T22:46:07.765803Z",
     "iopub.status.idle": "2022-08-11T22:46:07.783311Z",
     "shell.execute_reply": "2022-08-11T22:46:07.781386Z",
     "shell.execute_reply.started": "2022-08-11T22:46:07.766461Z"
    },
    "tags": []
   },
   "outputs": [
    {
     "data": {
      "text/plain": [
       "[{'extent': 'national',\n",
       "  'label': 'Ano Novo',\n",
       "  'calculate': 'january 1st',\n",
       "  'date': '2020-01-01'},\n",
       " {'extent': 'national',\n",
       "  'label': 'Carnaval',\n",
       "  'calculate': '47 days before easter sunday on a tuesday',\n",
       "  'date': '2020-02-25'},\n",
       " {'extent': 'national',\n",
       "  'label': 'Sexta-Feira Santa',\n",
       "  'calculate': 'friday right before easter sunday',\n",
       "  'date': '2020-04-10'}]"
      ]
     },
     "execution_count": 9,
     "metadata": {},
     "output_type": "execute_result"
    }
   ],
   "source": [
    "hol.calculate().date_str().as_list()[:3]"
   ]
  },
  {
   "cell_type": "code",
   "execution_count": 10,
   "id": "58fbe81c-0ece-4fc8-b8cd-97720de846d8",
   "metadata": {
    "execution": {
     "iopub.execute_input": "2022-08-11T22:46:07.786211Z",
     "iopub.status.busy": "2022-08-11T22:46:07.785346Z",
     "iopub.status.idle": "2022-08-11T22:46:07.795241Z",
     "shell.execute_reply": "2022-08-11T22:46:07.794116Z",
     "shell.execute_reply.started": "2022-08-11T22:46:07.786115Z"
    },
    "tags": []
   },
   "outputs": [
    {
     "data": {
      "text/plain": [
       "[{'extent': 'national',\n",
       "  'label': 'Ano Novo',\n",
       "  'date': datetime.datetime(2020, 1, 1, 0, 0)},\n",
       " {'extent': 'national',\n",
       "  'label': 'Carnaval',\n",
       "  'date': datetime.datetime(2020, 2, 25, 0, 0)},\n",
       " {'extent': 'national',\n",
       "  'label': 'Sexta-Feira Santa',\n",
       "  'date': datetime.datetime(2020, 4, 10, 0, 0)}]"
      ]
     },
     "execution_count": 10,
     "metadata": {},
     "output_type": "execute_result"
    }
   ],
   "source": [
    "hol.calculate().drop(['calculate']).as_list()[:3]"
   ]
  }
 ],
 "metadata": {
  "kernelspec": {
   "display_name": "Python 3 (ipykernel)",
   "language": "python",
   "name": "python3"
  },
  "language_info": {
   "codemirror_mode": {
    "name": "ipython",
    "version": 3
   },
   "file_extension": ".py",
   "mimetype": "text/x-python",
   "name": "python",
   "nbconvert_exporter": "python",
   "pygments_lexer": "ipython3",
   "version": "3.9.12"
  }
 },
 "nbformat": 4,
 "nbformat_minor": 5
}
